{
 "cells": [
  {
   "cell_type": "code",
   "execution_count": 25,
   "metadata": {},
   "outputs": [],
   "source": [
    "import numpy as np\n",
    "import scipy.io\n",
    "import math\n",
    "import matplotlib.pyplot as plt\n",
    "import matplotlib as mpl\n",
    "from mpl_toolkits.mplot3d import Axes3D"
   ]
  },
  {
   "cell_type": "code",
   "execution_count": 26,
   "metadata": {},
   "outputs": [],
   "source": [
    "mat = scipy.io.loadmat('stack.mat')"
   ]
  },
  {
   "cell_type": "code",
   "execution_count": 27,
   "metadata": {},
   "outputs": [],
   "source": [
    "#************Definition of convolution (X is image array and H is Kernel array)***************#####\n",
    "def conv(X, H):\n",
    "    # make sure both X and H are 2-D\n",
    "    assert( X.ndim == 2)\n",
    "    assert( H.ndim == 2)\n",
    "\n",
    "    # get the horizontal and vertical size of X and H\n",
    "    imageColumns = X.shape[1]\n",
    "    imageRows = X.shape[0]\n",
    "    kernelColumns = H.shape[1]\n",
    "    kernelRows = H.shape[0]\n",
    "\n",
    "    # calculate the horizontal and vertical size of Y (assume \"full\" convolution)\n",
    "    newRows = imageRows + kernelRows - 1\n",
    "    newColumns = imageColumns + kernelColumns - 1\n",
    "\n",
    "    # create an empty output array\n",
    "    Y = np.zeros((newRows,newColumns))\n",
    "\n",
    "\n",
    "    # go over output locations\n",
    "    for m in range(newRows):\n",
    "        for n in range(newColumns):\n",
    "\n",
    "    # go over input locations\n",
    "          for i in range(kernelRows):\n",
    "              for j in range(kernelColumns):\n",
    "                if (m-i >= 0) and (m-i < imageRows ) and (n-j >= 0) and (n-j < imageColumns):\n",
    "                      Y[m,n] = Y[m,n] + H[i,j]*X[m-i,n-j]\n",
    "        # make sure kernel is within bounds\n",
    "\n",
    "        # calculate the convolution sum\n",
    "\n",
    "    return Y"
   ]
  },
  {
   "cell_type": "code",
   "execution_count": 28,
   "metadata": {},
   "outputs": [],
   "source": [
    "#**********Sum Modified Laplacian operator for a point i,j******************#########\n",
    "def SML(arr,N,i,j):\n",
    "    len = arr.shape[0]\n",
    "    val = 0\n",
    "    for x in range(i-N,i+N):\n",
    "        for y in range(j-N,j+N):\n",
    "            if ( i-N>=0 ) and ( i+N<len ) and ( j-N>=0 ) and ( j+N<len ):\n",
    "                val = val + arr[x,y]\n",
    "\n",
    "    return val"
   ]
  },
  {
   "cell_type": "code",
   "execution_count": 29,
   "metadata": {},
   "outputs": [],
   "source": [
    "#******** Laplacian kernel/filter**************#\n",
    "fxx = np.array([[0,0,0],[1,-2,1],[0,0,0]]) #discrete approximation for fxx\n",
    "fyy = np.array([[0,1,0],[0,-2,0],[0,1,0]]) #discrete approximation for fyy"
   ]
  },
  {
   "cell_type": "code",
   "execution_count": 30,
   "metadata": {},
   "outputs": [],
   "source": [
    "#*********Convolution with fxx of entire image stack*********************\n",
    "i = 1\n",
    "y = []\n",
    "arr1 = [y for j in range(100)]\n",
    "for x in range(100):\n",
    "    if i<10:\n",
    "        s = 'frame00' + str(i)\n",
    "        arr1[x] = conv(mat[s],fxx)\n",
    "        i = i + 1\n",
    "    elif i<100:\n",
    "        s = 'frame0'+str(i)\n",
    "        arr1[x] = conv(mat[s],fxx)\n",
    "        i = i + 1\n",
    "    else:\n",
    "         arr1[x] = conv(mat['frame100'],fxx)\n",
    "arr1 = np.abs(arr1)"
   ]
  },
  {
   "cell_type": "code",
   "execution_count": 31,
   "metadata": {},
   "outputs": [],
   "source": [
    "#*************Convolution with fyy of entire image stack*********************\n",
    "i = 1\n",
    "y = []\n",
    "arr2 = [y for j in range(100)]\n",
    "for x in range(100):\n",
    "    if i<10:\n",
    "        s = 'frame00' + str(i)\n",
    "        arr2[x] = conv(mat[s],fyy)\n",
    "        i = i + 1\n",
    "    elif i<100:\n",
    "        s = 'frame0'+str(i)\n",
    "        arr2[x] = conv(mat[s],fyy)\n",
    "        i = i + 1\n",
    "    else:\n",
    "         arr2[x] = conv(mat['frame100'],fyy)\n",
    "arr2 = np.abs(arr2)\n",
    "ML = arr1 + arr2 #*******Modified Laplacian*************#######"
   ]
  },
  {
   "cell_type": "code",
   "execution_count": 32,
   "metadata": {},
   "outputs": [],
   "source": [
    "y = []\n",
    "sum_mod_lap = [y for j in range(100)] \n",
    "#*******Focus measure i.e SUM of Modified Laplacian*************\n",
    "for x in range(100):\n",
    "    arr = ML[x]\n",
    "    len = arr.shape[0]\n",
    "    Y = np.zeros((len,len)) #Output array\n",
    "    for i in range(len):\n",
    "        for j in range(len):\n",
    "            Y[i,j] = SML(arr,2,i,j) #N = 0,1,2 and focus measure at point (i,j)\n",
    "    sum_mod_lap[x] = Y  "
   ]
  },
  {
   "cell_type": "code",
   "execution_count": 33,
   "metadata": {},
   "outputs": [],
   "source": [
    "Output = np.zeros((117,117)) #For storing the depth map of each pixel     \n",
    "delta_d = 50.50  #*******\n",
    "for i in range(len):\n",
    "    for j in range(len):\n",
    "        Fm_minus = 0\n",
    "        Fm = 0\n",
    "        Fm_plus = 0\n",
    "        dm = 0\n",
    "        for k in range(100): #****Saare frames mein same image pixel ko compare karna hai           \n",
    "            F = sum_mod_lap[k] #*********For ease of calculation assigining the list  \n",
    "            if (Fm < F[i,j]):\n",
    "                Fm_minus = sum_mod_lap[k-1][i,j]\n",
    "                Fm = F[i,j]\n",
    "                if (k<99):\n",
    "                    Fm_plus = sum_mod_lap[k+1][i,j]\n",
    "                dm = k * delta_d\n",
    "                t_k = k\n",
    "            if (k == 99 and Fm > 0 and Fm_minus > 0 and Fm_plus > 0): #***** Have explored all the frames, will calculate the d-bar value here only\n",
    "                dm_plus = dm + delta_d\n",
    "                dm_minus = dm - delta_d\n",
    "                d_bar = ((math.log(Fm) - math.log(Fm_minus))*(dm_plus * dm_plus - dm * dm) - (math.log(Fm)-math.log(Fm_plus))*(dm_minus*dm_minus - dm*dm))//(2*delta_d*(2*math.log(Fm) - math.log(Fm_plus)-math.log(Fm_minus)))\n",
    "                Output[i,j] = d_bar\n",
    "\n",
    "np. savetxt(\"file3.txt\", Output)\n"
   ]
  },
  {
   "cell_type": "code",
   "execution_count": null,
   "metadata": {},
   "outputs": [],
   "source": []
  },
  {
   "cell_type": "code",
   "execution_count": null,
   "metadata": {},
   "outputs": [],
   "source": []
  }
 ],
 "metadata": {
  "kernelspec": {
   "display_name": "Python 3",
   "language": "python",
   "name": "python3"
  },
  "language_info": {
   "codemirror_mode": {
    "name": "ipython",
    "version": 3
   },
   "file_extension": ".py",
   "mimetype": "text/x-python",
   "name": "python",
   "nbconvert_exporter": "python",
   "pygments_lexer": "ipython3",
   "version": "3.7.6"
  }
 },
 "nbformat": 4,
 "nbformat_minor": 4
}
