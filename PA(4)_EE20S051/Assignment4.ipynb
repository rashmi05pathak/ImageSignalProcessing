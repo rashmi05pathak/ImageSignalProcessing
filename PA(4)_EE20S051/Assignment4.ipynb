{
 "cells": [
  {
   "cell_type": "code",
   "execution_count": 6,
   "metadata": {},
   "outputs": [],
   "source": [
    "import numpy as np\n",
    "from PIL import Image\n",
    "import cv2\n",
    "import math"
   ]
  },
  {
   "cell_type": "code",
   "execution_count": 7,
   "metadata": {},
   "outputs": [],
   "source": [
    "img = Image.open(\"Mandrill.png\")\n",
    "arr = np.array(img)"
   ]
  },
  {
   "cell_type": "code",
   "execution_count": 8,
   "metadata": {},
   "outputs": [],
   "source": [
    "def conv(X, H):\n",
    "    # make sure both X and H are 2-D\n",
    "    assert( X.ndim == 2)\n",
    "    assert( H.ndim == 2)\n",
    "\n",
    "    # get the horizontal and vertical size of X and H\n",
    "    imageColumns = X.shape[1]\n",
    "    imageRows = X.shape[0]\n",
    "    kernelColumns = H.shape[1]\n",
    "    kernelRows = H.shape[0]\n",
    "\n",
    "    # calculate the horizontal and vertical size of Y (assume \"full\" convolution)\n",
    "    newRows = imageRows + kernelRows - 1\n",
    "    newColumns = imageColumns + kernelColumns - 1\n",
    "\n",
    "    # create an empty output array\n",
    "    Y = np.zeros((newRows,newColumns))\n",
    "\n",
    "\n",
    "    # go over output locations\n",
    "    for m in range(newRows):\n",
    "        for n in range(newColumns):\n",
    "\n",
    "    # go over input locations\n",
    "          for i in range(kernelRows):\n",
    "              for j in range(kernelColumns):\n",
    "                if (m-i >= 0) and (m-i < imageRows ) and (n-j >= 0) and (n-j < imageColumns):\n",
    "                      Y[m,n] = Y[m,n] + H[i,j]*X[m-i,n-j]\n",
    "        # make sure kernel is within bounds\n",
    "\n",
    "        # calculate the convolution sum\n",
    "\n",
    "    return Y\n"
   ]
  },
  {
   "cell_type": "code",
   "execution_count": 9,
   "metadata": {},
   "outputs": [
    {
     "name": "stdout",
     "output_type": "stream",
     "text": [
      "0.9990452992111658\n"
     ]
    }
   ],
   "source": [
    "\"********creating Gaussian kernel with given sigma**************\"\n",
    "#********creating Gaussian kernel with given sigma**************\"\n",
    "def GaussianKernal(sigma):\n",
    "    s = 6*sigma + 1\n",
    "    filter_size = math.ceil(s)\n",
    "    b = filter_size%2\n",
    "    if b == 0:\n",
    "        filter_size = filter_size+1 #Make odd size kernel\n",
    "    h = np.zeros([filter_size, filter_size], dtype = float)\n",
    "    m = filter_size//2\n",
    "    n = filter_size//2\n",
    "    sum = 0\n",
    "    for x in range(-m, m+1):\n",
    "        for y in range(-n, n+1):\n",
    "            if sigma == 0.0:\n",
    "                x1 = 1\n",
    "                sigma = 1\n",
    "            else:\n",
    "                x1 = 2*np.pi*(sigma**2)\n",
    "            x2 = np.exp(-(x**2 + y**2)/(2* sigma**2))\n",
    "            h[x+m, y+n] = (1/x1)*x2\n",
    "            sum = sum+h[x+m,y+n]\n",
    "    print(sum)\n",
    "    h = h/sum\n",
    "    \n",
    "    return h\n",
    "\"Calling Gaussian kernel with different Sigma values\"\n",
    "h = GaussianKernal(1.6)\n",
    "#h = np.array([[1/9,1/9,1/9],[1/9,1/9,1/9],[1/9,1/9,1/9]])\n",
    "#h = np.array([[1,0,-1],[0,0,0],[-1,0,1]]) //Edge detection\n",
    "#h = np.array([[0,-1,0],[-1,4,-1],[0,-1,0]]) #Edge detection\n",
    "#h = np.array([[1/16,2/16,1/16],[2/16,4/16,2/16],[1/16,2/16,1/16]]) #Gaussian Blurr\n",
    "s = conv(arr,h)\n",
    "img1 = Image.fromarray(s)\n",
    "img1.show()\n"
   ]
  },
  {
   "cell_type": "code",
   "execution_count": null,
   "metadata": {},
   "outputs": [],
   "source": []
  },
  {
   "cell_type": "code",
   "execution_count": null,
   "metadata": {},
   "outputs": [],
   "source": []
  }
 ],
 "metadata": {
  "kernelspec": {
   "display_name": "Python 3",
   "language": "python",
   "name": "python3"
  },
  "language_info": {
   "codemirror_mode": {
    "name": "ipython",
    "version": 3
   },
   "file_extension": ".py",
   "mimetype": "text/x-python",
   "name": "python",
   "nbconvert_exporter": "python",
   "pygments_lexer": "ipython3",
   "version": "3.7.6"
  }
 },
 "nbformat": 4,
 "nbformat_minor": 4
}
