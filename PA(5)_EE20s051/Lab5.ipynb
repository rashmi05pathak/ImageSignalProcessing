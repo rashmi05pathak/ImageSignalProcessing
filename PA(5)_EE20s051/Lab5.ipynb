{
 "cells": [
  {
   "cell_type": "code",
   "execution_count": 1,
   "metadata": {},
   "outputs": [],
   "source": [
    "import numpy as np\n",
    "from PIL import Image\n",
    "import cv2\n",
    "import math"
   ]
  },
  {
   "cell_type": "code",
   "execution_count": 2,
   "metadata": {},
   "outputs": [],
   "source": [
    "#img = Image.open(\"Globe.png\")\n",
    "img = Image.open(\"Globe.png\")\n",
    "arr = np.array(img)"
   ]
  },
  {
   "cell_type": "code",
   "execution_count": 3,
   "metadata": {},
   "outputs": [],
   "source": [
    "\"********creating Gaussian kernel with given sigma**************\"\n",
    "#********creating Gaussian kernel with given sigma**************\"\n",
    "def GaussianKernal_spaceInvariant(sigma):\n",
    "    s = 6*sigma + 1\n",
    "    filter_size = math.ceil(s)\n",
    "    b = filter_size%2\n",
    "    if b == 0:\n",
    "        filter_size = filter_size+1\n",
    "    h = np.zeros((filter_size, filter_size), dtype = float)\n",
    "    m = filter_size//2\n",
    "    n = filter_size//2\n",
    "    sum = 0\n",
    "    for x in range(-m, m+1):\n",
    "        for y in range(-n, n+1):\n",
    "            if sigma == 0.0:\n",
    "                x1 = 1\n",
    "                sigma = 1\n",
    "            else:\n",
    "                x1 = 2*np.pi*(sigma**2)\n",
    "            x2 = np.exp(-(x**2 + y**2)/(2* sigma**2))\n",
    "            h[x+m, y+n] = (1/x1)*x2\n",
    "            sum = sum + h[x+m,y+n]\n",
    "    #print(sum)\n",
    "    h = h/sum\n",
    "    \n",
    "    return h"
   ]
  },
  {
   "cell_type": "code",
   "execution_count": 4,
   "metadata": {},
   "outputs": [],
   "source": [
    "#Space Variant blurring - defining sigma for different pixels of image\n",
    "def GaussianKernal_SigmaMap(arr):\n",
    "    # get the horizontal and vertical size of image\n",
    "    N = arr.shape[0]\n",
    "    A = 2.0\n",
    "    B = N*N\n",
    "    B = B/10.596\n",
    "    sigmaMap = np.zeros([N,N], dtype = float)\n",
    "    sigmaMap[0,0] = 0.01\n",
    "    #Defining sigma Map for various pixels of image\n",
    "    for i in range(N-1):\n",
    "        for j in range(N-1):\n",
    "            sigmaMap[i,j] = A * np.exp(-((i-N/2)*(i-N/2) + (j - N/2)*(j - N/2))/B)\n",
    "    return sigmaMap\n"
   ]
  },
  {
   "cell_type": "code",
   "execution_count": 5,
   "metadata": {},
   "outputs": [],
   "source": [
    "def spaceVariantBlurring(arr):\n",
    "#h = GaussianKernal(1.2)\n",
    "#h = np.array([[1/9,1/9,1/9],[1/9,1/9,1/9],[1/9,1/9,1/9]])\n",
    "#h = np.array([[1,0,-1],[0,0,0],[-1,0,1]]) //Edge detection\n",
    "#h = np.array([[0,-1,0],[-1,4,-1],[0,-1,0]]) #Edge detection\n",
    "#h = np.array([[1/16,2/16,1/16],[2/16,4/16,2/16],[1/16,2/16,1/16]]) #Gaussian Blurr\n",
    "#####Getting Sigma Map matrix for the given input image\n",
    "    sigmaMap = GaussianKernal_SigmaMap(arr)\n",
    "    \n",
    "    #print(sigmaMap)\n",
    "    N = arr.shape[0]\n",
    "\n",
    "    #******Nautical.png blurring experiment 2\n",
    "    #sigmaMap = np.zeros([N,N], dtype = float)\n",
    "   # for i in range(N-1):\n",
    "       # for j in range(N-1):\n",
    "          #  sigmaMap[i,j] = 1.0\n",
    "    # create an empty output array\n",
    "    Y = np.zeros((N,N), dtype = float)\n",
    "\n",
    "    for i in range(N-1):\n",
    "        for j in range(N-1):\n",
    "            sigma = sigmaMap[i,j] # Ek Ek Sigma se Kernel banaana hai, Fir usko blurring ke liye use karna hai\n",
    "            kernel = GaussianKernal_spaceInvariant(sigma)\n",
    "            #### Use this kernel for blurring the arr[i,j] pixel of the image*************\n",
    "            kernel = arr[i,j] * kernel #Kernel ko pixel intensity se multiply karna hai\n",
    "            k_size = kernel.shape[0] ##Alag alag Sigma value ke liye kernel ka size alag alag hoga\n",
    "            x = k_size//2 #center of kernel, it needs to be placed at arr[i,j]\n",
    "            for m in range(-x,x):\n",
    "                for n in range(-x,x):\n",
    "                    if (i+m >= 0) and (i+m < N ) and (j+n >= 0) and (j+n < N):\n",
    "                        Y[i+m,j+n] = Y[i+m,j+n] + kernel[m+x,n+x]\n",
    "    return Y"
   ]
  },
  {
   "cell_type": "code",
   "execution_count": 6,
   "metadata": {},
   "outputs": [],
   "source": [
    "#h = GaussianKernal_spaceInvariant(1.0) #*******Used for space Invariant Blurring\n",
    "#s = conv(arr,h) #*******Used for space Invariant Blurring\n",
    "##Space Variant Blurring of the input image\n",
    "Y = spaceVariantBlurring(arr)\n",
    "img1 = Image.fromarray(Y)\n",
    "img1.show()\n"
   ]
  },
  {
   "cell_type": "code",
   "execution_count": null,
   "metadata": {},
   "outputs": [],
   "source": []
  }
 ],
 "metadata": {
  "kernelspec": {
   "display_name": "Python 3",
   "language": "python",
   "name": "python3"
  },
  "language_info": {
   "codemirror_mode": {
    "name": "ipython",
    "version": 3
   },
   "file_extension": ".py",
   "mimetype": "text/x-python",
   "name": "python",
   "nbconvert_exporter": "python",
   "pygments_lexer": "ipython3",
   "version": "3.7.6"
  }
 },
 "nbformat": 4,
 "nbformat_minor": 4
}
